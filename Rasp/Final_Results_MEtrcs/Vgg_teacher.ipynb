{
 "cells": [
  {
   "cell_type": "code",
   "execution_count": 1,
   "id": "70757192-cc5f-4fff-a4a5-56c2259fbc28",
   "metadata": {},
   "outputs": [],
   "source": [
    "import numpy as np\n",
    "import tensorflow as tf\n",
    "from tensorflow.keras import layers, initializers, backend as K\n",
    "from pathlib import Path\n",
    "from sklearn.model_selection import train_test_split\n",
    "from sklearn.metrics import classification_report, confusion_matrix\n",
    "import shutil"
   ]
  },
  {
   "cell_type": "code",
   "execution_count": 2,
   "id": "c5c9ffaa-a401-4b23-9f83-d343812ad74f",
   "metadata": {},
   "outputs": [],
   "source": [
    "# Configuration\n",
    "INPUT_SHAPE = (224, 224, 3)\n",
    "BATCH_SIZE = 32\n",
    "EPOCHS = 20\n",
    "LEARNING_RATE = 0.001\n",
    "TEST_SIZE = 0.2"
   ]
  },
  {
   "cell_type": "code",
   "execution_count": 3,
   "id": "d470e7cd-fa70-4e1f-b02f-4c234b600065",
   "metadata": {},
   "outputs": [],
   "source": [
    "def train_initial_model():\n",
    "    train_dir = r\"D:\\Major Project\\Rasp\\old\\initial_train\"\n",
    "    test_dir = r\"D:\\Major Project\\Rasp\\old\\test\"\n",
    "    \n",
    "    train_datagen = tf.keras.preprocessing.image.ImageDataGenerator(\n",
    "        rescale=1./255,\n",
    "        validation_split=0.2\n",
    "    )\n",
    "    \n",
    "    train_gen = train_datagen.flow_from_directory(\n",
    "        train_dir,\n",
    "        target_size=INPUT_SHAPE[:2],\n",
    "        batch_size=BATCH_SIZE,\n",
    "        class_mode='binary',\n",
    "        subset='training',\n",
    "        shuffle=True\n",
    "    )\n",
    "    \n",
    "    val_gen = train_datagen.flow_from_directory(\n",
    "        train_dir,\n",
    "        target_size=INPUT_SHAPE[:2],\n",
    "        batch_size=BATCH_SIZE,\n",
    "        class_mode='binary',\n",
    "        subset='validation'\n",
    "    )\n",
    "\n",
    "    base_model = tf.keras.applications.VGG16(\n",
    "        weights='imagenet',\n",
    "        include_top=False,\n",
    "        input_shape=INPUT_SHAPE\n",
    "    )\n",
    "    base_model.trainable = False  # freeze base model\n",
    "    \n",
    "    model = tf.keras.Sequential([\n",
    "        base_model,\n",
    "        tf.keras.layers.Flatten(),\n",
    "        tf.keras.layers.Dense(256, activation='relu'),\n",
    "        tf.keras.layers.Dropout(0.5),\n",
    "        tf.keras.layers.Dense(1, activation='sigmoid')  # binary classification\n",
    "    ])\n",
    "    model.compile(\n",
    "        optimizer=tf.keras.optimizers.Adam(LEARNING_RATE),\n",
    "        loss='binary_crossentropy',\n",
    "        metrics=['accuracy']\n",
    "    )\n",
    "\n",
    "    \n",
    "    history = model.fit(\n",
    "        train_gen,\n",
    "        validation_data=val_gen,\n",
    "        epochs=EPOCHS,\n",
    "        verbose=1\n",
    "    )\n",
    "    \n",
    "    test_datagen = tf.keras.preprocessing.image.ImageDataGenerator(rescale=1./255)\n",
    "    test_gen = test_datagen.flow_from_directory(\n",
    "        test_dir,\n",
    "        target_size=INPUT_SHAPE[:2],\n",
    "        batch_size=BATCH_SIZE,\n",
    "        class_mode='binary',\n",
    "        shuffle=False\n",
    "    )\n",
    "    \n",
    "    y_pred_probs = model.predict(test_gen)\n",
    "    y_pred = (y_pred_probs > 0.5).astype(int).reshape(-1)\n",
    "\n",
    "    y_true = test_gen.classes\n",
    "    \n",
    "    print(\"\\nTest Metrics:\")\n",
    "    print(f\"Accuracy: {np.mean(y_true == y_pred):.4f}\")\n",
    "    print(\"\\nClassification Report:\")\n",
    "    print(classification_report(y_true, y_pred, target_names=['Not Drowsy', 'Drowsy']))\n",
    "    \n",
    "   # Inside train_initial_model() function after training:\n",
    "    model.save(r\"D:\\Major Project\\Report\\model_waste\\vgg_20_epoch.keras\")  \n",
    "\n",
    "    return model"
   ]
  },
  {
   "cell_type": "code",
   "execution_count": 4,
   "id": "89e5ac8b-0859-4c18-9365-6fed8f036c56",
   "metadata": {},
   "outputs": [
    {
     "name": "stdout",
     "output_type": "stream",
     "text": [
      "Found 9019 images belonging to 2 classes.\n",
      "Found 2253 images belonging to 2 classes.\n"
     ]
    },
    {
     "name": "stderr",
     "output_type": "stream",
     "text": [
      "D:\\Major Project\\venv\\lib\\site-packages\\keras\\src\\trainers\\data_adapters\\py_dataset_adapter.py:121: UserWarning: Your `PyDataset` class should call `super().__init__(**kwargs)` in its constructor. `**kwargs` can include `workers`, `use_multiprocessing`, `max_queue_size`. Do not pass these arguments to `fit()`, as they will be ignored.\n",
      "  self._warn_if_super_not_called()\n"
     ]
    },
    {
     "name": "stdout",
     "output_type": "stream",
     "text": [
      "Epoch 1/20\n",
      "\u001b[1m282/282\u001b[0m \u001b[32m━━━━━━━━━━━━━━━━━━━━\u001b[0m\u001b[37m\u001b[0m \u001b[1m1175s\u001b[0m 4s/step - accuracy: 0.6633 - loss: 0.7917 - val_accuracy: 0.6028 - val_loss: 0.9246\n",
      "Epoch 2/20\n",
      "\u001b[1m282/282\u001b[0m \u001b[32m━━━━━━━━━━━━━━━━━━━━\u001b[0m\u001b[37m\u001b[0m \u001b[1m1165s\u001b[0m 4s/step - accuracy: 0.8368 - loss: 0.3440 - val_accuracy: 0.5517 - val_loss: 1.2835\n",
      "Epoch 3/20\n",
      "\u001b[1m282/282\u001b[0m \u001b[32m━━━━━━━━━━━━━━━━━━━━\u001b[0m\u001b[37m\u001b[0m \u001b[1m1160s\u001b[0m 4s/step - accuracy: 0.8508 - loss: 0.3064 - val_accuracy: 0.5424 - val_loss: 1.3195\n",
      "Epoch 4/20\n",
      "\u001b[1m282/282\u001b[0m \u001b[32m━━━━━━━━━━━━━━━━━━━━\u001b[0m\u001b[37m\u001b[0m \u001b[1m1171s\u001b[0m 4s/step - accuracy: 0.8578 - loss: 0.2760 - val_accuracy: 0.5517 - val_loss: 1.5551\n",
      "Epoch 5/20\n",
      "\u001b[1m282/282\u001b[0m \u001b[32m━━━━━━━━━━━━━━━━━━━━\u001b[0m\u001b[37m\u001b[0m \u001b[1m1164s\u001b[0m 4s/step - accuracy: 0.8662 - loss: 0.2659 - val_accuracy: 0.5348 - val_loss: 2.4296\n",
      "Epoch 6/20\n",
      "\u001b[1m282/282\u001b[0m \u001b[32m━━━━━━━━━━━━━━━━━━━━\u001b[0m\u001b[37m\u001b[0m \u001b[1m1163s\u001b[0m 4s/step - accuracy: 0.8759 - loss: 0.2418 - val_accuracy: 0.5490 - val_loss: 2.5931\n",
      "Epoch 7/20\n",
      "\u001b[1m282/282\u001b[0m \u001b[32m━━━━━━━━━━━━━━━━━━━━\u001b[0m\u001b[37m\u001b[0m \u001b[1m1167s\u001b[0m 4s/step - accuracy: 0.8823 - loss: 0.2362 - val_accuracy: 0.5499 - val_loss: 2.9212\n",
      "Epoch 8/20\n",
      "\u001b[1m282/282\u001b[0m \u001b[32m━━━━━━━━━━━━━━━━━━━━\u001b[0m\u001b[37m\u001b[0m \u001b[1m1166s\u001b[0m 4s/step - accuracy: 0.8760 - loss: 0.2314 - val_accuracy: 0.5477 - val_loss: 3.0758\n",
      "Epoch 9/20\n",
      "\u001b[1m282/282\u001b[0m \u001b[32m━━━━━━━━━━━━━━━━━━━━\u001b[0m\u001b[37m\u001b[0m \u001b[1m1164s\u001b[0m 4s/step - accuracy: 0.8934 - loss: 0.2167 - val_accuracy: 0.5517 - val_loss: 3.4294\n",
      "Epoch 10/20\n",
      "\u001b[1m282/282\u001b[0m \u001b[32m━━━━━━━━━━━━━━━━━━━━\u001b[0m\u001b[37m\u001b[0m \u001b[1m1161s\u001b[0m 4s/step - accuracy: 0.8731 - loss: 0.2286 - val_accuracy: 0.5473 - val_loss: 3.3007\n",
      "Epoch 11/20\n",
      "\u001b[1m282/282\u001b[0m \u001b[32m━━━━━━━━━━━━━━━━━━━━\u001b[0m\u001b[37m\u001b[0m \u001b[1m989s\u001b[0m 4s/step - accuracy: 0.8927 - loss: 0.2083 - val_accuracy: 0.5442 - val_loss: 4.3998\n",
      "Epoch 12/20\n",
      "\u001b[1m282/282\u001b[0m \u001b[32m━━━━━━━━━━━━━━━━━━━━\u001b[0m\u001b[37m\u001b[0m \u001b[1m997s\u001b[0m 4s/step - accuracy: 0.8751 - loss: 0.2020 - val_accuracy: 0.5308 - val_loss: 4.1428\n",
      "Epoch 13/20\n",
      "\u001b[1m282/282\u001b[0m \u001b[32m━━━━━━━━━━━━━━━━━━━━\u001b[0m\u001b[37m\u001b[0m \u001b[1m1045s\u001b[0m 4s/step - accuracy: 0.9066 - loss: 0.1845 - val_accuracy: 0.5433 - val_loss: 4.5519\n",
      "Epoch 14/20\n",
      "\u001b[1m282/282\u001b[0m \u001b[32m━━━━━━━━━━━━━━━━━━━━\u001b[0m\u001b[37m\u001b[0m \u001b[1m1524s\u001b[0m 5s/step - accuracy: 0.8986 - loss: 0.1869 - val_accuracy: 0.5535 - val_loss: 4.4818\n",
      "Epoch 15/20\n",
      "\u001b[1m282/282\u001b[0m \u001b[32m━━━━━━━━━━━━━━━━━━━━\u001b[0m\u001b[37m\u001b[0m \u001b[1m1606s\u001b[0m 6s/step - accuracy: 0.9140 - loss: 0.1744 - val_accuracy: 0.5153 - val_loss: 6.0736\n",
      "Epoch 16/20\n",
      "\u001b[1m282/282\u001b[0m \u001b[32m━━━━━━━━━━━━━━━━━━━━\u001b[0m\u001b[37m\u001b[0m \u001b[1m2908s\u001b[0m 10s/step - accuracy: 0.9155 - loss: 0.1761 - val_accuracy: 0.5433 - val_loss: 4.0780\n",
      "Epoch 17/20\n",
      "\u001b[1m282/282\u001b[0m \u001b[32m━━━━━━━━━━━━━━━━━━━━\u001b[0m\u001b[37m\u001b[0m \u001b[1m3592s\u001b[0m 13s/step - accuracy: 0.9026 - loss: 0.1974 - val_accuracy: 0.5468 - val_loss: 6.0135\n",
      "Epoch 18/20\n",
      "\u001b[1m282/282\u001b[0m \u001b[32m━━━━━━━━━━━━━━━━━━━━\u001b[0m\u001b[37m\u001b[0m \u001b[1m3510s\u001b[0m 12s/step - accuracy: 0.8909 - loss: 0.1978 - val_accuracy: 0.5637 - val_loss: 5.1046\n",
      "Epoch 19/20\n",
      "\u001b[1m282/282\u001b[0m \u001b[32m━━━━━━━━━━━━━━━━━━━━\u001b[0m\u001b[37m\u001b[0m \u001b[1m3323s\u001b[0m 12s/step - accuracy: 0.8932 - loss: 0.2001 - val_accuracy: 0.5619 - val_loss: 6.0741\n",
      "Epoch 20/20\n",
      "\u001b[1m282/282\u001b[0m \u001b[32m━━━━━━━━━━━━━━━━━━━━\u001b[0m\u001b[37m\u001b[0m \u001b[1m1121s\u001b[0m 4s/step - accuracy: 0.8860 - loss: 0.1954 - val_accuracy: 0.5375 - val_loss: 7.4499\n",
      "Found 7045 images belonging to 2 classes.\n",
      "\u001b[1m221/221\u001b[0m \u001b[32m━━━━━━━━━━━━━━━━━━━━\u001b[0m\u001b[37m\u001b[0m \u001b[1m585s\u001b[0m 3s/step\n",
      "\n",
      "Test Metrics:\n",
      "Accuracy: 0.8728\n",
      "\n",
      "Classification Report:\n",
      "              precision    recall  f1-score   support\n",
      "\n",
      "  Not Drowsy       0.85      0.93      0.89      3768\n",
      "      Drowsy       0.91      0.81      0.86      3277\n",
      "\n",
      "    accuracy                           0.87      7045\n",
      "   macro avg       0.88      0.87      0.87      7045\n",
      "weighted avg       0.88      0.87      0.87      7045\n",
      "\n"
     ]
    },
    {
     "data": {
      "text/plain": [
       "<Sequential name=sequential, built=True>"
      ]
     },
     "execution_count": 4,
     "metadata": {},
     "output_type": "execute_result"
    }
   ],
   "source": [
    "train_initial_model()"
   ]
  },
  {
   "cell_type": "code",
   "execution_count": null,
   "id": "e78fb396-afc1-40f1-8831-bdfaea015c2c",
   "metadata": {},
   "outputs": [],
   "source": []
  }
 ],
 "metadata": {
  "kernelspec": {
   "display_name": "Python 3 (ipykernel)",
   "language": "python",
   "name": "python3"
  },
  "language_info": {
   "codemirror_mode": {
    "name": "ipython",
    "version": 3
   },
   "file_extension": ".py",
   "mimetype": "text/x-python",
   "name": "python",
   "nbconvert_exporter": "python",
   "pygments_lexer": "ipython3",
   "version": "3.10.0"
  }
 },
 "nbformat": 4,
 "nbformat_minor": 5
}
