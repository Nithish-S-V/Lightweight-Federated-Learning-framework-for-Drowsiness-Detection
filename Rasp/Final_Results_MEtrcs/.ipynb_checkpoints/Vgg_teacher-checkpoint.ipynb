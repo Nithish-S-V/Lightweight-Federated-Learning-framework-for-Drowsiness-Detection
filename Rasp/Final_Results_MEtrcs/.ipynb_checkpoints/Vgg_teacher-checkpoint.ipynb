{
 "cells": [
  {
   "cell_type": "code",
   "execution_count": 1,
   "id": "70757192-cc5f-4fff-a4a5-56c2259fbc28",
   "metadata": {},
   "outputs": [],
   "source": [
    "import numpy as np\n",
    "import tensorflow as tf\n",
    "from tensorflow.keras import layers, initializers, backend as K\n",
    "from pathlib import Path\n",
    "from sklearn.model_selection import train_test_split\n",
    "from sklearn.metrics import classification_report, confusion_matrix\n",
    "import shutil"
   ]
  },
  {
   "cell_type": "code",
   "execution_count": null,
   "id": "c5c9ffaa-a401-4b23-9f83-d343812ad74f",
   "metadata": {},
   "outputs": [],
   "source": [
    "# Configuration\n",
    "INPUT_SHAPE = (224, 224, 3)\n",
    "BATCH_SIZE = 32\n",
    "EPOCHS = 20\n",
    "LEARNING_RATE = 0.001\n",
    "TEST_SIZE = 0.2"
   ]
  },
  {
   "cell_type": "code",
   "execution_count": null,
   "id": "d470e7cd-fa70-4e1f-b02f-4c234b600065",
   "metadata": {},
   "outputs": [],
   "source": [
    "def train_initial_model():\n",
    "    train_dir = r\"D:\\Major Project\\Rasp\\old\\initial_train\"\n",
    "    test_dir = r\"D:\\Major Project\\Rasp\\old\\test\"\n",
    "    \n",
    "    train_datagen = tf.keras.preprocessing.image.ImageDataGenerator(\n",
    "        rescale=1./255,\n",
    "        rotation_range=20,\n",
    "        width_shift_range=0.2,\n",
    "        height_shift_range=0.2,\n",
    "        horizontal_flip=True,\n",
    "        validation_split=0.2\n",
    "    )\n",
    "    \n",
    "    train_gen = train_datagen.flow_from_directory(\n",
    "        train_dir,\n",
    "        target_size=INPUT_SHAPE[:2],\n",
    "        batch_size=BATCH_SIZE,\n",
    "        class_mode='binary',\n",
    "        subset='training',\n",
    "        shuffle=True\n",
    "    )\n",
    "    \n",
    "    val_gen = train_datagen.flow_from_directory(\n",
    "        train_dir,\n",
    "        target_size=INPUT_SHAPE[:2],\n",
    "        batch_size=BATCH_SIZE,\n",
    "        class_mode='binary',\n",
    "        subset='validation'\n",
    "    )\n",
    "\n",
    "    base_model = tf.keras.applications.VGG16(\n",
    "        weights='imagenet',\n",
    "        include_top=False,\n",
    "        input_shape=INPUT_SHAPE\n",
    "    )\n",
    "    base_model.trainable = False  # freeze base model\n",
    "    \n",
    "    model = tf.keras.Sequential([\n",
    "        base_model,\n",
    "        tf.keras.layers.Flatten(),\n",
    "        tf.keras.layers.Dense(256, activation='relu'),\n",
    "        tf.keras.layers.Dropout(0.5),\n",
    "        tf.keras.layers.Dense(1, activation='sigmoid')  # binary classification\n",
    "    ])\n",
    "    model.compile(\n",
    "        optimizer=tf.keras.optimizers.Adam(LEARNING_RATE),\n",
    "        loss='binary_crossentropy',\n",
    "        metrics=['accuracy']\n",
    "    )\n",
    "\n",
    "    \n",
    "    history = model.fit(\n",
    "        train_gen,\n",
    "        validation_data=val_gen,\n",
    "        epochs=EPOCHS,\n",
    "        verbose=1\n",
    "    )\n",
    "    \n",
    "    test_datagen = tf.keras.preprocessing.image.ImageDataGenerator(rescale=1./255)\n",
    "    test_gen = test_datagen.flow_from_directory(\n",
    "        test_dir,\n",
    "        target_size=INPUT_SHAPE[:2],\n",
    "        batch_size=BATCH_SIZE,\n",
    "        class_mode='binary',\n",
    "        shuffle=False\n",
    "    )\n",
    "    \n",
    "    y_pred_probs = model.predict(test_gen)\n",
    "    y_pred = (y_pred_probs > 0.5).astype(int).reshape(-1)\n",
    "\n",
    "    y_true = test_gen.classes\n",
    "    \n",
    "    print(\"\\nTest Metrics:\")\n",
    "    print(f\"Accuracy: {np.mean(y_true == y_pred):.4f}\")\n",
    "    print(\"\\nClassification Report:\")\n",
    "    print(classification_report(y_true, y_pred, target_names=['Not Drowsy', 'Drowsy']))\n",
    "    \n",
    "   # Inside train_initial_model() function after training:\n",
    "    model.save(r\"D:\\Major Project\\Report\\model_waste\\vgg_20_epoch.keras\")  \n",
    "\n",
    "    return model"
   ]
  },
  {
   "cell_type": "code",
   "execution_count": 5,
   "id": "89e5ac8b-0859-4c18-9365-6fed8f036c56",
   "metadata": {},
   "outputs": [
    {
     "name": "stdout",
     "output_type": "stream",
     "text": [
      "Found 7596 images belonging to 2 classes.\n",
      "Found 1898 images belonging to 2 classes.\n",
      "Downloading data from https://storage.googleapis.com/tensorflow/keras-applications/vgg16/vgg16_weights_tf_dim_ordering_tf_kernels_notop.h5\n",
      "\u001b[1m58889256/58889256\u001b[0m \u001b[32m━━━━━━━━━━━━━━━━━━━━\u001b[0m\u001b[37m\u001b[0m \u001b[1m13s\u001b[0m 0us/step\n"
     ]
    },
    {
     "name": "stderr",
     "output_type": "stream",
     "text": [
      "D:\\Major Project\\venv\\lib\\site-packages\\keras\\src\\trainers\\data_adapters\\py_dataset_adapter.py:121: UserWarning: Your `PyDataset` class should call `super().__init__(**kwargs)` in its constructor. `**kwargs` can include `workers`, `use_multiprocessing`, `max_queue_size`. Do not pass these arguments to `fit()`, as they will be ignored.\n",
      "  self._warn_if_super_not_called()\n"
     ]
    },
    {
     "name": "stdout",
     "output_type": "stream",
     "text": [
      "Epoch 1/5\n",
      "\u001b[1m238/238\u001b[0m \u001b[32m━━━━━━━━━━━━━━━━━━━━\u001b[0m\u001b[37m\u001b[0m \u001b[1m907s\u001b[0m 4s/step - accuracy: 0.6858 - loss: 0.8399 - val_accuracy: 0.6333 - val_loss: 0.7866\n",
      "Epoch 2/5\n",
      "\u001b[1m238/238\u001b[0m \u001b[32m━━━━━━━━━━━━━━━━━━━━\u001b[0m\u001b[37m\u001b[0m \u001b[1m1387s\u001b[0m 6s/step - accuracy: 0.7886 - loss: 0.4358 - val_accuracy: 0.6338 - val_loss: 0.9507\n",
      "Epoch 3/5\n",
      "\u001b[1m238/238\u001b[0m \u001b[32m━━━━━━━━━━━━━━━━━━━━\u001b[0m\u001b[37m\u001b[0m \u001b[1m1390s\u001b[0m 6s/step - accuracy: 0.8184 - loss: 0.3822 - val_accuracy: 0.6133 - val_loss: 1.0249\n",
      "Epoch 4/5\n",
      "\u001b[1m238/238\u001b[0m \u001b[32m━━━━━━━━━━━━━━━━━━━━\u001b[0m\u001b[37m\u001b[0m \u001b[1m1366s\u001b[0m 6s/step - accuracy: 0.8314 - loss: 0.3671 - val_accuracy: 0.6201 - val_loss: 1.2497\n",
      "Epoch 5/5\n",
      "\u001b[1m238/238\u001b[0m \u001b[32m━━━━━━━━━━━━━━━━━━━━\u001b[0m\u001b[37m\u001b[0m \u001b[1m1372s\u001b[0m 6s/step - accuracy: 0.8175 - loss: 0.3732 - val_accuracy: 0.6217 - val_loss: 1.0710\n",
      "Found 2374 images belonging to 2 classes.\n",
      "\u001b[1m75/75\u001b[0m \u001b[32m━━━━━━━━━━━━━━━━━━━━\u001b[0m\u001b[37m\u001b[0m \u001b[1m338s\u001b[0m 4s/step\n",
      "\n",
      "Test Metrics:\n",
      "Accuracy: 0.8269\n",
      "\n",
      "Classification Report:\n",
      "              precision    recall  f1-score   support\n",
      "\n",
      "  Not Drowsy       0.84      0.82      0.83      1223\n",
      "      Drowsy       0.82      0.83      0.82      1151\n",
      "\n",
      "    accuracy                           0.83      2374\n",
      "   macro avg       0.83      0.83      0.83      2374\n",
      "weighted avg       0.83      0.83      0.83      2374\n",
      "\n"
     ]
    },
    {
     "data": {
      "text/plain": [
       "<Sequential name=sequential, built=True>"
      ]
     },
     "execution_count": 5,
     "metadata": {},
     "output_type": "execute_result"
    }
   ],
   "source": [
    "train_initial_model()"
   ]
  },
  {
   "cell_type": "code",
   "execution_count": null,
   "id": "e78fb396-afc1-40f1-8831-bdfaea015c2c",
   "metadata": {},
   "outputs": [],
   "source": []
  }
 ],
 "metadata": {
  "kernelspec": {
   "display_name": "Python 3 (ipykernel)",
   "language": "python",
   "name": "python3"
  },
  "language_info": {
   "codemirror_mode": {
    "name": "ipython",
    "version": 3
   },
   "file_extension": ".py",
   "mimetype": "text/x-python",
   "name": "python",
   "nbconvert_exporter": "python",
   "pygments_lexer": "ipython3",
   "version": "3.10.0"
  }
 },
 "nbformat": 4,
 "nbformat_minor": 5
}
