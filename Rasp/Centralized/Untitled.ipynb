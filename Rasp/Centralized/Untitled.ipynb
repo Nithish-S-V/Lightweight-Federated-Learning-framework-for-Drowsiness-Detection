{
 "cells": [
  {
   "cell_type": "code",
   "execution_count": 1,
   "id": "4c2d1eff-03e2-447c-a451-522ac2ee3259",
   "metadata": {},
   "outputs": [],
   "source": [
    "INPUT_SHAPE = (224, 224, 3)\n",
    "BATCH_SIZE = 32\n",
    "TEST_DIR = r\"D:\\Major Project\\Final Proper\\3class_test\""
   ]
  },
  {
   "cell_type": "code",
   "execution_count": 2,
   "id": "ae4f319f-3186-4f20-9911-4ffbb6dadcaa",
   "metadata": {},
   "outputs": [],
   "source": [
    "import socket\n",
    "import struct\n",
    "import zlib\n",
    "import tempfile\n",
    "import tensorflow as tf\n",
    "import numpy as np\n",
    "from tqdm import tqdm\n",
    "from sklearn.metrics import classification_report\n",
    "from tensorflow.keras.saving import register_keras_serializable\n",
    "from tensorflow.keras import layers, initializers, backend as K\n",
    "from sklearn.metrics import confusion_matrix, accuracy_score\n",
    "from cryptography.fernet import Fernet\n",
    "import base64\n",
    "import hashlib"
   ]
  },
  {
   "cell_type": "code",
   "execution_count": 3,
   "id": "b64dc0e0-addc-42c1-8d83-e5f7a784ea31",
   "metadata": {},
   "outputs": [],
   "source": [
    "# Custom Capsule Network Components\n",
    "@register_keras_serializable(package=\"Custom\")\n",
    "class Length(layers.Layer):\n",
    "    def call(self, inputs, **kwargs):\n",
    "        return K.sqrt(K.sum(K.square(inputs), -1) + K.epsilon())\n",
    "    \n",
    "    def compute_output_shape(self, input_shape):\n",
    "        return input_shape[:-1]\n",
    "    \n",
    "    def get_config(self):\n",
    "        return super(Length, self).get_config()\n",
    "\n",
    "@tf.keras.saving.register_keras_serializable(package=\"Custom\")\n",
    "class CapsuleLayer(layers.Layer):\n",
    "    def __init__(self, num_capsule, dim_capsule, routings=3, **kwargs):\n",
    "        super().__init__(**kwargs)\n",
    "        self.num_capsule = num_capsule\n",
    "        self.dim_capsule = dim_capsule\n",
    "        self.routings = routings\n",
    "\n",
    "    def build(self, input_shape):\n",
    "        self.input_num_capsule = input_shape[1]\n",
    "        self.input_dim_capsule = input_shape[2]\n",
    "        \n",
    "        self.W = self.add_weight(\n",
    "            shape=[1, self.input_num_capsule, self.num_capsule, self.dim_capsule, self.input_dim_capsule],\n",
    "            initializer=initializers.glorot_uniform(),\n",
    "            name='W'\n",
    "        )\n",
    "        self.built = True\n",
    "\n",
    "    def call(self, inputs):\n",
    "        inputs_expand = K.expand_dims(K.expand_dims(inputs, 2), 2)\n",
    "        W_tiled = K.tile(self.W, [K.shape(inputs)[0], 1, 1, 1, 1])\n",
    "        inputs_hat = tf.squeeze(tf.matmul(W_tiled, inputs_expand, transpose_b=True), axis=-1)\n",
    "        b = tf.zeros(shape=[K.shape(inputs)[0], self.input_num_capsule, self.num_capsule])\n",
    "\n",
    "        for i in range(self.routings):\n",
    "            c = tf.nn.softmax(b, axis=2)\n",
    "            c_expand = K.expand_dims(c, -1)\n",
    "            outputs = self.squash(tf.reduce_sum(inputs_hat * c_expand, axis=1))\n",
    "            if i < self.routings - 1:\n",
    "                b += tf.reduce_sum(inputs_hat * K.expand_dims(c, -1), axis=-1)\n",
    "        \n",
    "        return outputs\n",
    "    def get_config(self):\n",
    "        config = super().get_config()\n",
    "        config.update({\n",
    "            \"num_capsule\": self.num_capsule,\n",
    "            \"dim_capsule\": self.dim_capsule,\n",
    "            \"routings\": self.routings\n",
    "        })\n",
    "        return config\n",
    "    def squash(self, vectors, axis=-1):\n",
    "        s_squared_norm = K.sum(K.square(vectors), axis, keepdims=True)\n",
    "        scale = s_squared_norm / (1 + s_squared_norm) / K.sqrt(s_squared_norm + K.epsilon())\n",
    "        return scale * vectors\n",
    "\n",
    "@tf.keras.saving.register_keras_serializable(package=\"Custom\", name=\"margin_loss\")\n",
    "def margin_loss(y_true, y_pred):\n",
    "    # Remove explicit one-hot conversion if labels are already categorical\n",
    "    if len(y_true.shape) == 2:  # Already one-hot encoded\n",
    "        y_true_ = y_true\n",
    "    else:  # Convert sparse labels to one-hot\n",
    "        y_true_ = tf.one_hot(tf.cast(y_true, tf.int32), depth=2)\n",
    "    \n",
    "    L = y_true_ * tf.square(tf.maximum(0., 0.9 - y_pred)) + \\\n",
    "        0.5 * (1 - y_true_) * tf.square(tf.maximum(0., y_pred - 0.1))\n",
    "    return tf.reduce_mean(tf.reduce_sum(L, axis=1))\n",
    "\n",
    "\n",
    "class MobileNetCapsNet:\n",
    "    def __init__(self, input_shape=(224, 224, 3)):\n",
    "        self.input_shape = input_shape\n",
    "        self.model = self._build_model()\n",
    "    \n",
    "    def _build_model(self):\n",
    "        base_model = tf.keras.applications.MobileNetV2(\n",
    "            input_shape=self.input_shape,\n",
    "            include_top=False,\n",
    "            weights='imagenet'\n",
    "        )\n",
    "        base_model.trainable = False\n",
    "        \n",
    "        x = base_model.output\n",
    "        x = layers.Conv2D(256, 3, activation='relu')(x)\n",
    "        x = layers.GlobalAveragePooling2D()(x)\n",
    "        x = layers.Reshape((-1, 256))(x)\n",
    "        \n",
    "        x = CapsuleLayer(num_capsule=8, dim_capsule=16, routings=3)(x)\n",
    "        x = CapsuleLayer(num_capsule=2, dim_capsule=32, routings=3)(x)\n",
    "        outputs = Length()(x)\n",
    "        \n",
    "        return tf.keras.Model(inputs=base_model.input, outputs=outputs)\n",
    "    \n",
    "    def compile_model(self, learning_rate=0.001):\n",
    "        \"\"\"Compile the model with appropriate loss and optimizer\"\"\"\n",
    "        optimizer = tf.keras.optimizers.Adam(learning_rate=learning_rate)\n",
    "        \n",
    "        self.model.compile(\n",
    "            optimizer=optimizer,\n",
    "            loss=self.margin_loss,\n",
    "            metrics=['accuracy']\n",
    "        )\n",
    "        \n",
    "    @staticmethod\n",
    "    def margin_loss(y_true, y_pred):\n",
    "        \"\"\"Margin loss for capsule network\"\"\"\n",
    "        # Convert y_true to one-hot if it isn't already\n",
    "        if len(K.int_shape(y_true)) == 1:\n",
    "            y_true = tf.one_hot(tf.cast(y_true, 'int32'), 2)\n",
    "            \n",
    "        L = y_true * tf.square(tf.maximum(0., 0.9 - y_pred)) + \\\n",
    "            0.5 * (1 - y_true) * tf.square(tf.maximum(0., y_pred - 0.1))\n",
    "        return tf.reduce_mean(tf.reduce_sum(L, axis=1))\n"
   ]
  },
  {
   "cell_type": "code",
   "execution_count": 4,
   "id": "b43acc61-95f5-4d4a-adb4-cf1403aa6072",
   "metadata": {},
   "outputs": [],
   "source": [
    "from tensorflow.keras.models import load_model\n",
    "def load_model_from_file():\n",
    "    return load_model(r\"D:\\Major Project\\Final Proper\\Models\\drowsiness_model_final_WithClientData_lesser.keras\", \n",
    "                      custom_objects={\"CapsuleLayer\": CapsuleLayer,\"Length\":Length,\"margin_loss\":margin_loss})"
   ]
  },
  {
   "cell_type": "code",
   "execution_count": 5,
   "id": "3c1c4434-6f5a-4f55-a63c-a7b95f177090",
   "metadata": {},
   "outputs": [],
   "source": [
    "def evaluate_model(model, dataset_dir):\n",
    "# Define test image generator\n",
    "    test_datagen = tf.keras.preprocessing.image.ImageDataGenerator(rescale=1./255)\n",
    "\n",
    "    # Load test images\n",
    "    test_gen = test_datagen.flow_from_directory(\n",
    "        dataset_dir,\n",
    "        target_size=INPUT_SHAPE[:2],\n",
    "        batch_size=BATCH_SIZE,\n",
    "        class_mode='categorical',  \n",
    "        color_mode='rgb',\n",
    "        shuffle=False\n",
    "    )\n",
    "    # Get predictions (probabilities)\n",
    "    # Get predictions (probabilities)\n",
    "    y_pred = np.argmax(model.predict(test_gen), axis=1)\n",
    "    y_true = test_gen.classes\n",
    "\n",
    "    print(\"\\nTest Metrics:\")\n",
    "    print(f\"Accuracy: {np.mean(y_true == y_pred):.4f}\")\n",
    "    print(\"\\nClassification Report:\")\n",
    "    print(classification_report(y_true, y_pred, target_names=['Eyeclose','Neutral', 'Yawn'], zero_division=0))"
   ]
  },
  {
   "cell_type": "code",
   "execution_count": 6,
   "id": "6d1dd8e2-0d60-48a9-9090-19a7ef0d78a2",
   "metadata": {},
   "outputs": [
    {
     "name": "stdout",
     "output_type": "stream",
     "text": [
      "WARNING:tensorflow:From D:\\Major Project\\venv\\lib\\site-packages\\keras\\src\\backend\\tensorflow\\core.py:219: The name tf.placeholder is deprecated. Please use tf.compat.v1.placeholder instead.\n",
      "\n"
     ]
    }
   ],
   "source": [
    "global_model = load_model_from_file()"
   ]
  },
  {
   "cell_type": "code",
   "execution_count": 7,
   "id": "66bd1813-b136-43bc-8663-69eda0b4d01d",
   "metadata": {},
   "outputs": [
    {
     "name": "stdout",
     "output_type": "stream",
     "text": [
      "Found 198 images belonging to 3 classes.\n"
     ]
    },
    {
     "name": "stderr",
     "output_type": "stream",
     "text": [
      "D:\\Major Project\\venv\\lib\\site-packages\\keras\\src\\trainers\\data_adapters\\py_dataset_adapter.py:121: UserWarning: Your `PyDataset` class should call `super().__init__(**kwargs)` in its constructor. `**kwargs` can include `workers`, `use_multiprocessing`, `max_queue_size`. Do not pass these arguments to `fit()`, as they will be ignored.\n",
      "  self._warn_if_super_not_called()\n"
     ]
    },
    {
     "name": "stdout",
     "output_type": "stream",
     "text": [
      "\u001b[1m7/7\u001b[0m \u001b[32m━━━━━━━━━━━━━━━━━━━━\u001b[0m\u001b[37m\u001b[0m \u001b[1m5s\u001b[0m 588ms/step\n",
      "\n",
      "Test Metrics:\n",
      "Accuracy: 0.7172\n",
      "\n",
      "Classification Report:\n",
      "              precision    recall  f1-score   support\n",
      "\n",
      "    Eyeclose       1.00      0.66      0.79        82\n",
      "     Neutral       0.62      0.72      0.67        64\n",
      "        Yawn       0.60      0.81      0.69        52\n",
      "\n",
      "    accuracy                           0.72       198\n",
      "   macro avg       0.74      0.73      0.72       198\n",
      "weighted avg       0.77      0.72      0.73       198\n",
      "\n"
     ]
    }
   ],
   "source": [
    "evaluate_model(global_model, r\"D:\\Major Project\\Final Proper\\3class_test\")"
   ]
  },
  {
   "cell_type": "code",
   "execution_count": 8,
   "id": "39743804-b5fc-4e2f-9392-207875833313",
   "metadata": {},
   "outputs": [],
   "source": [
    "import numpy as np\n",
    "import tensorflow as tf\n",
    "import os\n",
    "import matplotlib.pyplot as plt\n",
    "import seaborn as sns\n",
    "from sklearn.metrics import classification_report, confusion_matrix\n",
    "\n",
    "# Dataset directory\n",
    "DATASET_DIR = \"D:\\Major Project\\Final Proper\\Centralized dataset\\Centralized\"\n",
    "LEARNING_RATE = 0.001\n",
    "INPUT_SHAPE = (224, 224, 3)\n",
    "BATCH_SIZE = 8\n",
    "EPOCHS = 5\n",
    "def plot_confusion_matrix(y_true, y_pred, class_names):\n",
    "    \"\"\"Plot a confusion matrix.\"\"\"\n",
    "    cm = confusion_matrix(y_true, y_pred)\n",
    "    plt.figure(figsize=(8, 6))\n",
    "    sns.heatmap(cm, annot=True, fmt=\"d\", cmap=\"Blues\", xticklabels=class_names, yticklabels=class_names)\n",
    "    plt.xlabel(\"Predicted Label\")\n",
    "    plt.ylabel(\"True Label\")\n",
    "    plt.title(\"Confusion Matrix\")\n",
    "    plt.show()"
   ]
  },
  {
   "cell_type": "code",
   "execution_count": 9,
   "id": "d8d8c385-4248-46b7-b258-f0b908ee797c",
   "metadata": {},
   "outputs": [],
   "source": [
    "def train_incremental_model():\n",
    "    rounds = sorted([os.path.join(DATASET_DIR, d) for d in os.listdir(DATASET_DIR) if d.startswith(\"set\")])\n",
    "    \n",
    "    model = global_model  # Ensure MobileNetCapsNet is defined\n",
    "    model.compile(\n",
    "        optimizer=tf.keras.optimizers.Adam(LEARNING_RATE),\n",
    "        loss=margin_loss,  # Ensure margin_loss is defined\n",
    "        metrics=['accuracy']\n",
    "    )\n",
    "\n",
    "    for i, round_dir in enumerate(rounds):\n",
    "        print(f\"\\nTraining on {round_dir} (Round {i+1}/{len(rounds)})\")\n",
    "\n",
    "        datagen = tf.keras.preprocessing.image.ImageDataGenerator(\n",
    "                    rescale=1./255,\n",
    "                    rotation_range=20,\n",
    "                    width_shift_range=0.2,\n",
    "                    height_shift_range=0.2,\n",
    "                    horizontal_flip=True,\n",
    "                    validation_split=0.2,        \n",
    "                )\n",
    "        train_flow = datagen.flow_from_directory(\n",
    "            round_dir,\n",
    "            target_size=INPUT_SHAPE[:2],\n",
    "            batch_size=BATCH_SIZE,\n",
    "            class_mode='categorical',  # Change from 'binary' to 'categorical'\n",
    "            color_mode='rgb',\n",
    "            subset='training',\n",
    "            shuffle=True \n",
    "        )\n",
    "    \n",
    "        val_flow = datagen.flow_from_directory(\n",
    "            round_dir,\n",
    "            target_size=INPUT_SHAPE[:2],\n",
    "            batch_size=BATCH_SIZE,\n",
    "            class_mode='categorical',  # Change from 'binary' to 'categorical'\n",
    "            color_mode='rgb',\n",
    "            subset='validation'\n",
    "        )\n",
    "\n",
    "        model.fit(\n",
    "            train_flow,\n",
    "            validation_data=val_flow,\n",
    "            epochs=EPOCHS,\n",
    "            verbose=1\n",
    "        )\n",
    "\n",
    "        # After training on each round, evaluate the model\n",
    "        print(f\"\\nEvaluating after training Set {i+1}\")\n",
    "        test_datagen = tf.keras.preprocessing.image.ImageDataGenerator(rescale=1./255)\n",
    "        test_gen = test_datagen.flow_from_directory(\n",
    "            TEST_DIR,\n",
    "            target_size=INPUT_SHAPE[:2],\n",
    "            batch_size=BATCH_SIZE,\n",
    "            class_mode='categorical',  # Change from 'binary' to 'categorical'\n",
    "            color_mode='rgb',\n",
    "            shuffle=False\n",
    "        )\n",
    "        # Get predictions (probabilities)\n",
    "        # Get predictions (probabilities)\n",
    "        # Get predictions (probabilities)\n",
    "        y_pred = np.argmax(model.predict(test_gen), axis=1)\n",
    "        y_true = test_gen.classes\n",
    "    \n",
    "        print(\"\\nTest Metrics:\")\n",
    "        print(f\"Accuracy: {np.mean(y_true == y_pred):.4f}\")\n",
    "        print(\"\\nClassification Report:\")\n",
    "        print(classification_report(y_true, y_pred, target_names=['Eyeclose','Neutral', 'Yawn'], zero_division=0))\n",
    "        class_labels=['Eyeclose','Neutral', 'Yawn']\n",
    "        # Plot confusion matrix\n",
    "        plot_confusion_matrix(y_true, y_pred, class_labels)"
   ]
  },
  {
   "cell_type": "code",
   "execution_count": 10,
   "id": "b5b5a947-356e-4e4c-b8fd-d38085f7eab1",
   "metadata": {},
   "outputs": [
    {
     "name": "stdout",
     "output_type": "stream",
     "text": [
      "\n",
      "Training on D:\\Major Project\\Final Proper\\Centralized dataset\\Centralized\\set1 (Round 1/3)\n",
      "Found 576 images belonging to 3 classes.\n",
      "Found 142 images belonging to 3 classes.\n"
     ]
    },
    {
     "name": "stderr",
     "output_type": "stream",
     "text": [
      "D:\\Major Project\\venv\\lib\\site-packages\\keras\\src\\trainers\\data_adapters\\py_dataset_adapter.py:121: UserWarning: Your `PyDataset` class should call `super().__init__(**kwargs)` in its constructor. `**kwargs` can include `workers`, `use_multiprocessing`, `max_queue_size`. Do not pass these arguments to `fit()`, as they will be ignored.\n",
      "  self._warn_if_super_not_called()\n"
     ]
    },
    {
     "name": "stdout",
     "output_type": "stream",
     "text": [
      "Epoch 1/5\n",
      "\u001b[1m72/72\u001b[0m \u001b[32m━━━━━━━━━━━━━━━━━━━━\u001b[0m\u001b[37m\u001b[0m \u001b[1m20s\u001b[0m 226ms/step - accuracy: 0.7432 - loss: 0.1733 - val_accuracy: 0.4366 - val_loss: 0.4401\n",
      "Epoch 2/5\n",
      "\u001b[1m72/72\u001b[0m \u001b[32m━━━━━━━━━━━━━━━━━━━━\u001b[0m\u001b[37m\u001b[0m \u001b[1m15s\u001b[0m 206ms/step - accuracy: 0.7787 - loss: 0.1333 - val_accuracy: 0.4014 - val_loss: 0.4417\n",
      "Epoch 3/5\n",
      "\u001b[1m72/72\u001b[0m \u001b[32m━━━━━━━━━━━━━━━━━━━━\u001b[0m\u001b[37m\u001b[0m \u001b[1m15s\u001b[0m 215ms/step - accuracy: 0.8029 - loss: 0.1394 - val_accuracy: 0.3944 - val_loss: 0.4187\n",
      "Epoch 4/5\n",
      "\u001b[1m72/72\u001b[0m \u001b[32m━━━━━━━━━━━━━━━━━━━━\u001b[0m\u001b[37m\u001b[0m \u001b[1m14s\u001b[0m 200ms/step - accuracy: 0.8278 - loss: 0.1206 - val_accuracy: 0.3944 - val_loss: 0.4420\n",
      "Epoch 5/5\n",
      "\u001b[1m72/72\u001b[0m \u001b[32m━━━━━━━━━━━━━━━━━━━━\u001b[0m\u001b[37m\u001b[0m \u001b[1m14s\u001b[0m 188ms/step - accuracy: 0.8706 - loss: 0.1003 - val_accuracy: 0.4155 - val_loss: 0.4073\n",
      "\n",
      "Evaluating after training Set 1\n",
      "Found 198 images belonging to 3 classes.\n",
      "\u001b[1m25/25\u001b[0m \u001b[32m━━━━━━━━━━━━━━━━━━━━\u001b[0m\u001b[37m\u001b[0m \u001b[1m4s\u001b[0m 132ms/step\n",
      "\n",
      "Test Metrics:\n",
      "Accuracy: 0.7424\n",
      "\n",
      "Classification Report:\n",
      "              precision    recall  f1-score   support\n",
      "\n",
      "    Eyeclose       1.00      0.68      0.81        82\n",
      "     Neutral       0.57      0.86      0.68        64\n",
      "        Yawn       0.80      0.69      0.74        52\n",
      "\n",
      "    accuracy                           0.74       198\n",
      "   macro avg       0.79      0.74      0.75       198\n",
      "weighted avg       0.81      0.74      0.75       198\n",
      "\n"
     ]
    },
    {
     "data": {
      "image/png": "[encoded data removed]",
      "text/plain": [
       "<Figure size 800x600 with 2 Axes>"
      ]
     },
     "metadata": {},
     "output_type": "display_data"
    },
    {
     "name": "stdout",
     "output_type": "stream",
     "text": [
      "\n",
      "Training on D:\\Major Project\\Final Proper\\Centralized dataset\\Centralized\\set2 (Round 2/3)\n",
      "Found 575 images belonging to 3 classes.\n",
      "Found 141 images belonging to 3 classes.\n"
     ]
    },
    {
     "name": "stderr",
     "output_type": "stream",
     "text": [
      "D:\\Major Project\\venv\\lib\\site-packages\\keras\\src\\trainers\\data_adapters\\py_dataset_adapter.py:121: UserWarning: Your `PyDataset` class should call `super().__init__(**kwargs)` in its constructor. `**kwargs` can include `workers`, `use_multiprocessing`, `max_queue_size`. Do not pass these arguments to `fit()`, as they will be ignored.\n",
      "  self._warn_if_super_not_called()\n"
     ]
    },
    {
     "name": "stdout",
     "output_type": "stream",
     "text": [
      "Epoch 1/5\n",
      "\u001b[1m72/72\u001b[0m \u001b[32m━━━━━━━━━━━━━━━━━━━━\u001b[0m\u001b[37m\u001b[0m \u001b[1m14s\u001b[0m 190ms/step - accuracy: 0.8066 - loss: 0.1254 - val_accuracy: 0.4255 - val_loss: 0.3023\n",
      "Epoch 2/5\n",
      "\u001b[1m72/72\u001b[0m \u001b[32m━━━━━━━━━━━━━━━━━━━━\u001b[0m\u001b[37m\u001b[0m \u001b[1m13s\u001b[0m 182ms/step - accuracy: 0.8594 - loss: 0.1136 - val_accuracy: 0.3901 - val_loss: 0.4065\n",
      "Epoch 3/5\n",
      "\u001b[1m72/72\u001b[0m \u001b[32m━━━━━━━━━━━━━━━━━━━━\u001b[0m\u001b[37m\u001b[0m \u001b[1m13s\u001b[0m 185ms/step - accuracy: 0.8343 - loss: 0.1170 - val_accuracy: 0.3901 - val_loss: 0.3505\n",
      "Epoch 4/5\n",
      "\u001b[1m72/72\u001b[0m \u001b[32m━━━━━━━━━━━━━━━━━━━━\u001b[0m\u001b[37m\u001b[0m \u001b[1m13s\u001b[0m 184ms/step - accuracy: 0.9023 - loss: 0.0928 - val_accuracy: 0.4255 - val_loss: 0.3261\n",
      "Epoch 5/5\n",
      "\u001b[1m72/72\u001b[0m \u001b[32m━━━━━━━━━━━━━━━━━━━━\u001b[0m\u001b[37m\u001b[0m \u001b[1m13s\u001b[0m 183ms/step - accuracy: 0.8840 - loss: 0.1046 - val_accuracy: 0.3972 - val_loss: 0.4171\n",
      "\n",
      "Evaluating after training Set 2\n",
      "Found 198 images belonging to 3 classes.\n",
      "\u001b[1m25/25\u001b[0m \u001b[32m━━━━━━━━━━━━━━━━━━━━\u001b[0m\u001b[37m\u001b[0m \u001b[1m2s\u001b[0m 88ms/step\n",
      "\n",
      "Test Metrics:\n",
      "Accuracy: 0.7071\n",
      "\n",
      "Classification Report:\n",
      "              precision    recall  f1-score   support\n",
      "\n",
      "    Eyeclose       1.00      0.67      0.80        82\n",
      "     Neutral       0.53      0.91      0.67        64\n",
      "        Yawn       0.82      0.52      0.64        52\n",
      "\n",
      "    accuracy                           0.71       198\n",
      "   macro avg       0.78      0.70      0.70       198\n",
      "weighted avg       0.80      0.71      0.71       198\n",
      "\n"
     ]
    },
    {
     "data": {
      "image/png": "[encoded data removed]",
      "text/plain": [
       "<Figure size 800x600 with 2 Axes>"
      ]
     },
     "metadata": {},
     "output_type": "display_data"
    },
    {
     "name": "stdout",
     "output_type": "stream",
     "text": [
      "\n",
      "Training on D:\\Major Project\\Final Proper\\Centralized dataset\\Centralized\\set3 (Round 3/3)\n",
      "Found 579 images belonging to 3 classes.\n",
      "Found 143 images belonging to 3 classes.\n"
     ]
    },
    {
     "name": "stderr",
     "output_type": "stream",
     "text": [
      "D:\\Major Project\\venv\\lib\\site-packages\\keras\\src\\trainers\\data_adapters\\py_dataset_adapter.py:121: UserWarning: Your `PyDataset` class should call `super().__init__(**kwargs)` in its constructor. `**kwargs` can include `workers`, `use_multiprocessing`, `max_queue_size`. Do not pass these arguments to `fit()`, as they will be ignored.\n",
      "  self._warn_if_super_not_called()\n"
     ]
    },
    {
     "name": "stdout",
     "output_type": "stream",
     "text": [
      "Epoch 1/5\n",
      "\u001b[1m73/73\u001b[0m \u001b[32m━━━━━━━━━━━━━━━━━━━━\u001b[0m\u001b[37m\u001b[0m \u001b[1m14s\u001b[0m 189ms/step - accuracy: 0.8845 - loss: 0.1044 - val_accuracy: 0.4056 - val_loss: 0.4222\n",
      "Epoch 2/5\n",
      "\u001b[1m73/73\u001b[0m \u001b[32m━━━━━━━━━━━━━━━━━━━━\u001b[0m\u001b[37m\u001b[0m \u001b[1m13s\u001b[0m 181ms/step - accuracy: 0.9041 - loss: 0.0873 - val_accuracy: 0.4406 - val_loss: 0.3964\n",
      "Epoch 3/5\n",
      "\u001b[1m73/73\u001b[0m \u001b[32m━━━━━━━━━━━━━━━━━━━━\u001b[0m\u001b[37m\u001b[0m \u001b[1m13s\u001b[0m 184ms/step - accuracy: 0.8978 - loss: 0.0744 - val_accuracy: 0.4266 - val_loss: 0.4709\n",
      "Epoch 4/5\n",
      "\u001b[1m73/73\u001b[0m \u001b[32m━━━━━━━━━━━━━━━━━━━━\u001b[0m\u001b[37m\u001b[0m \u001b[1m14s\u001b[0m 186ms/step - accuracy: 0.9079 - loss: 0.0809 - val_accuracy: 0.4126 - val_loss: 0.4655\n",
      "Epoch 5/5\n",
      "\u001b[1m73/73\u001b[0m \u001b[32m━━━━━━━━━━━━━━━━━━━━\u001b[0m\u001b[37m\u001b[0m \u001b[1m14s\u001b[0m 189ms/step - accuracy: 0.9168 - loss: 0.0808 - val_accuracy: 0.4126 - val_loss: 0.4196\n",
      "\n",
      "Evaluating after training Set 3\n",
      "Found 198 images belonging to 3 classes.\n",
      "\u001b[1m25/25\u001b[0m \u001b[32m━━━━━━━━━━━━━━━━━━━━\u001b[0m\u001b[37m\u001b[0m \u001b[1m2s\u001b[0m 96ms/step\n",
      "\n",
      "Test Metrics:\n",
      "Accuracy: 0.7222\n",
      "\n",
      "Classification Report:\n",
      "              precision    recall  f1-score   support\n",
      "\n",
      "    Eyeclose       0.98      0.74      0.85        82\n",
      "     Neutral       0.54      0.97      0.70        64\n",
      "        Yawn       0.91      0.38      0.54        52\n",
      "\n",
      "    accuracy                           0.72       198\n",
      "   macro avg       0.81      0.70      0.69       198\n",
      "weighted avg       0.82      0.72      0.72       198\n",
      "\n"
     ]
    },
    {
     "data": {
      "image/png": "[encoded data removed]",
      "text/plain": [
       "<Figure size 800x600 with 2 Axes>"
      ]
     },
     "metadata": {},
     "output_type": "display_data"
    }
   ],
   "source": [
    "train_incremental_model()"
   ]
  },
  {
   "cell_type": "code",
   "execution_count": null,
   "id": "fe6c7068-332d-43b9-981d-dfdd1a1e18c5",
   "metadata": {},
   "outputs": [],
   "source": []
  }
 ],
 "metadata": {
  "kernelspec": {
   "display_name": "Python 3 (ipykernel)",
   "language": "python",
   "name": "python3"
  },
  "language_info": {
   "codemirror_mode": {
    "name": "ipython",
    "version": 3
   },
   "file_extension": ".py",
   "mimetype": "text/x-python",
   "name": "python",
   "nbconvert_exporter": "python",
   "pygments_lexer": "ipython3",
   "version": "3.10.0"
  }
 },
 "nbformat": 4,
 "nbformat_minor": 5
}
