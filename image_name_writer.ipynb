{
 "cells": [
  {
   "cell_type": "code",
   "execution_count": 1,
   "id": "42fa0ae0-fce8-4de9-b37e-1a7a09d929b1",
   "metadata": {},
   "outputs": [
    {
     "name": "stdout",
     "output_type": "stream",
     "text": [
      "File 'D:\\Major Project\\image_list.txt' created with 3239 image names.\n"
     ]
    }
   ],
   "source": [
    "import os\n",
    "\n",
    "# Set your folder path\n",
    "folder_path = r\"D:\\Major Project\\Dataset_Classified\\drowsy\"\n",
    "output_file = \"D:\\Major Project\\image_list.txt\"\n",
    "\n",
    "# Get all image file names\n",
    "image_files = [f for f in os.listdir(folder_path) if f.lower().endswith(('.png', '.jpg', '.jpeg', '.gif', '.bmp', '.tiff'))]\n",
    "\n",
    "# Write filenames to text file\n",
    "with open(output_file, \"w\") as f:\n",
    "    for image in image_files:\n",
    "        f.write(image + \"\\n\")\n",
    "\n",
    "print(f\"File '{output_file}' created with {len(image_files)} image names.\")\n"
   ]
  },
  {
   "cell_type": "code",
   "execution_count": null,
   "id": "69b438b7-480f-4672-91b7-72325d933857",
   "metadata": {},
   "outputs": [],
   "source": []
  }
 ],
 "metadata": {
  "kernelspec": {
   "display_name": "Python 3 (ipykernel)",
   "language": "python",
   "name": "python3"
  },
  "language_info": {
   "codemirror_mode": {
    "name": "ipython",
    "version": 3
   },
   "file_extension": ".py",
   "mimetype": "text/x-python",
   "name": "python",
   "nbconvert_exporter": "python",
   "pygments_lexer": "ipython3",
   "version": "3.10.0"
  }
 },
 "nbformat": 4,
 "nbformat_minor": 5
}
