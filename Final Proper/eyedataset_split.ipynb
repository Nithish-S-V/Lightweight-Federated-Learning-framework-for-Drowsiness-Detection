{
 "cells": [
  {
   "cell_type": "code",
   "execution_count": 1,
   "id": "07701dbd-98e4-4f98-990e-d249159e35a2",
   "metadata": {},
   "outputs": [
    {
     "name": "stdout",
     "output_type": "stream",
     "text": [
      "Dataset downsampling complete. 6K closed and 6K open eye images selected.\n"
     ]
    }
   ],
   "source": [
    "import os\n",
    "import random\n",
    "import shutil\n",
    "\n",
    "# Define paths\n",
    "source_closed = r\"D:\\Major Project\\Final Proper\\Eyedataset\\closed_eye\"\n",
    "source_open = r\"D:\\Major Project\\Final Proper\\Eyedataset\\open_eye\"\n",
    "destination = \"D:\\Major Project\\Final Proper\\Final_eyes_data\"\n",
    "\n",
    "# Create destination folders\n",
    "os.makedirs(f\"{destination}/closed_eyes\", exist_ok=True)\n",
    "os.makedirs(f\"{destination}/open_eyes\", exist_ok=True)\n",
    "\n",
    "# Get all images\n",
    "closed_images = os.listdir(source_closed)\n",
    "open_images = os.listdir(source_open)\n",
    "\n",
    "# Randomly sample 6K images from each category\n",
    "closed_sample = random.sample(closed_images, 6000)\n",
    "open_sample = random.sample(open_images, 6000)\n",
    "\n",
    "# Function to copy selected images\n",
    "def copy_images(sample, source, dest):\n",
    "    for img in sample:\n",
    "        shutil.copy(os.path.join(source, img), os.path.join(dest, img))\n",
    "\n",
    "# Copy images to new folder\n",
    "copy_images(closed_sample, source_closed, f\"{destination}/closed_eyes\")\n",
    "copy_images(open_sample, source_open, f\"{destination}/open_eyes\")\n",
    "\n",
    "print(\"Dataset downsampling complete. 6K closed and 6K open eye images selected.\")\n"
   ]
  },
  {
   "cell_type": "code",
   "execution_count": null,
   "id": "05f5d584-b367-4cd5-a2e4-05206cf7017c",
   "metadata": {},
   "outputs": [],
   "source": []
  }
 ],
 "metadata": {
  "kernelspec": {
   "display_name": "Python 3 (ipykernel)",
   "language": "python",
   "name": "python3"
  },
  "language_info": {
   "codemirror_mode": {
    "name": "ipython",
    "version": 3
   },
   "file_extension": ".py",
   "mimetype": "text/x-python",
   "name": "python",
   "nbconvert_exporter": "python",
   "pygments_lexer": "ipython3",
   "version": "3.10.0"
  }
 },
 "nbformat": 4,
 "nbformat_minor": 5
}
