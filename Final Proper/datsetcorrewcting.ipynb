{
 "cells": [
  {
   "cell_type": "code",
   "execution_count": 2,
   "id": "3adc33b9-6972-43f5-ad42-a7ec3dece678",
   "metadata": {},
   "outputs": [
    {
     "name": "stdout",
     "output_type": "stream",
     "text": [
      "✔ Folder structure corrected!\n"
     ]
    }
   ],
   "source": [
    "import shutil\n",
    "from pathlib import Path\n",
    "\n",
    "# Define dataset paths\n",
    "DATA_DIR = Path(\"D:/Major Project/Final Proper/eye_dataset_6k\")\n",
    "TRAIN_DIR = DATA_DIR.parent / \"train\"\n",
    "TEST_DIR = DATA_DIR.parent / \"test\"\n",
    "\n",
    "# Fix class naming inconsistencies\n",
    "CLASS_MAPPING = {\n",
    "    \"closed_eyes\": \"closed_eye\",\n",
    "    \"open_eyes\": \"open_eye\"\n",
    "}\n",
    "\n",
    "# Move misplaced files and remove incorrect folders\n",
    "for wrong_cls, correct_cls in CLASS_MAPPING.items():\n",
    "    wrong_path = TRAIN_DIR / wrong_cls\n",
    "    correct_path = TRAIN_DIR / correct_cls\n",
    "    if wrong_path.exists():\n",
    "        for file in wrong_path.glob(\"*\"):\n",
    "            shutil.move(str(file), str(correct_path / file.name))  # Move files to correct folder\n",
    "        wrong_path.rmdir()  # Remove the incorrect folder if empty\n",
    "\n",
    "    wrong_path = TEST_DIR / wrong_cls\n",
    "    correct_path = TEST_DIR / correct_cls\n",
    "    if wrong_path.exists():\n",
    "        for file in wrong_path.glob(\"*\"):\n",
    "            shutil.move(str(file), str(correct_path / file.name))  # Move files to correct folder\n",
    "        wrong_path.rmdir()  # Remove the incorrect folder if empty\n",
    "\n",
    "print(\"✔ Folder structure corrected!\")\n"
   ]
  },
  {
   "cell_type": "code",
   "execution_count": null,
   "id": "563171b5-50e1-4fb4-91e5-9e296be2fc93",
   "metadata": {},
   "outputs": [],
   "source": []
  }
 ],
 "metadata": {
  "kernelspec": {
   "display_name": "Python 3 (ipykernel)",
   "language": "python",
   "name": "python3"
  },
  "language_info": {
   "codemirror_mode": {
    "name": "ipython",
    "version": 3
   },
   "file_extension": ".py",
   "mimetype": "text/x-python",
   "name": "python",
   "nbconvert_exporter": "python",
   "pygments_lexer": "ipython3",
   "version": "3.10.0"
  }
 },
 "nbformat": 4,
 "nbformat_minor": 5
}
