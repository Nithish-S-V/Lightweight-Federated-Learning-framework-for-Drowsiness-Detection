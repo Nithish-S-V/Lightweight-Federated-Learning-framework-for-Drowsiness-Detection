{
 "cells": [
  {
   "cell_type": "code",
   "execution_count": 12,
   "id": "cb9454b7-e853-45c3-80dc-722748f17a40",
   "metadata": {},
   "outputs": [
    {
     "name": "stdin",
     "output_type": "stream",
     "text": [
      " mon\n",
      " 13\n"
     ]
    },
    {
     "name": "stdout",
     "output_type": "stream",
     "text": [
      "2\n"
     ]
    }
   ],
   "source": [
    "def main():\n",
    "    day = input()\n",
    "    num_days = int(input())\n",
    "    week={\"mon\":6 , \"tue\":5,\"wed\":4,\"thu\":3,\"fri\":2,\"sat\":1,\"sun\":0}\n",
    "    num_sun = week[day[:3]]\n",
    "    count =0\n",
    "    if num_sun > num_days:\n",
    "        print(0)\n",
    "    else:\n",
    "        #count = 1\n",
    "        while num_sun <= num_days:\n",
    "            num_sun = num_sun + 7\n",
    "            count += 1\n",
    "        print(count)\n",
    "if __name__ == \"__main__\":\n",
    "    main()\n",
    "    "
   ]
  },
  {
   "cell_type": "code",
   "execution_count": 9,
   "id": "a354997d-f1e4-4433-ab50-793a5c7ab312",
   "metadata": {},
   "outputs": [
    {
     "name": "stdin",
     "output_type": "stream",
     "text": [
      " mon\n",
      " 13\n"
     ]
    },
    {
     "name": "stdout",
     "output_type": "stream",
     "text": [
      "2\n"
     ]
    }
   ],
   "source": [
    "def main():\n",
    "    # Input the start day and number of days\n",
    "    day = input().strip().lower()  # Start day of the month\n",
    "    num_days = int(input())  # Total number of days in the month\n",
    "\n",
    "    # Mapping days of the week to the number of days until Sunday\n",
    "    week = {\"mon\":6 , \"tue\":5, \"wed\":4, \"thu\":3, \"fri\":2, \"sat\":1, \"sun\":0}\n",
    "\n",
    "    # Get the number of days until the first Sunday\n",
    "    num_sun = week[day[:3]]  # Get the number of days to the next Sunday from the start day\n",
    "    sunday_count = 0\n",
    "\n",
    "    # If the first Sunday is within the given number of days, start counting\n",
    "    if num_sun < num_days:\n",
    "        sunday_count = 1  # The first Sunday will always be within the given days if num_sun < num_days\n",
    "        while num_sun + 7 <= num_days:\n",
    "            num_sun += 7\n",
    "            sunday_count += 1\n",
    "\n",
    "    # Output the result\n",
    "    print(sunday_count)\n",
    "\n",
    "if __name__ == \"__main__\":\n",
    "    main()\n"
   ]
  },
  {
   "cell_type": "code",
   "execution_count": 16,
   "id": "088636a1-7a45-426b-b4cc-2fa70e212653",
   "metadata": {},
   "outputs": [
    {
     "name": "stdin",
     "output_type": "stream",
     "text": [
      " 7\n",
      " 1\n",
      " 0\n",
      " 2\n",
      " 0\n",
      " 1\n",
      " 0\n",
      " 2\n"
     ]
    },
    {
     "name": "stdout",
     "output_type": "stream",
     "text": [
      "0 0 0 1 1 2 2 "
     ]
    }
   ],
   "source": [
    "n = int(input())\n",
    "arr=[]\n",
    "for i in range(n):\n",
    "    arr.append(int(input()))\n",
    "for i in sorted(arr):\n",
    "    print(i,end=\" \")\n",
    "    \n",
    "    "
   ]
  },
  {
   "cell_type": "code",
   "execution_count": 23,
   "id": "32fdbe43-2517-4d2f-a80f-b84cddbb9881",
   "metadata": {},
   "outputs": [
    {
     "name": "stdin",
     "output_type": "stream",
     "text": [
      " 5\n",
      " 7\n",
      " 4\n",
      " 8\n",
      " 2\n",
      " 9\n"
     ]
    },
    {
     "name": "stdout",
     "output_type": "stream",
     "text": [
      "3\n"
     ]
    }
   ],
   "source": [
    "def main():\n",
    "    n= int(input())\n",
    "    arr=[]\n",
    "    for i in range(n):\n",
    "        arr.append(int(input()))\n",
    "    count = 1\n",
    "    i = arr[0]\n",
    "    for j in range(1,n):\n",
    "        if arr[j] > i:\n",
    "            count +=1\n",
    "            i = arr[j]\n",
    "    print(count)\n",
    "if __name__ == \"__main__\":\n",
    "    main()"
   ]
  },
  {
   "cell_type": "code",
   "execution_count": 25,
   "id": "8f68d4e8-00d5-4d9d-b23f-7c074c723b97",
   "metadata": {},
   "outputs": [
    {
     "name": "stdin",
     "output_type": "stream",
     "text": [
      " 5244\n"
     ]
    },
    {
     "name": "stdout",
     "output_type": "stream",
     "text": [
      "160\n"
     ]
    }
   ],
   "source": [
    "n = int(input())\n",
    "product = 1\n",
    "for i in str(n):\n",
    "    product *= int(i)\n",
    "print(product)"
   ]
  },
  {
   "cell_type": "code",
   "execution_count": null,
   "id": "cfbc7003-5118-4924-8358-c7e7c1012723",
   "metadata": {},
   "outputs": [],
   "source": []
  }
 ],
 "metadata": {
  "kernelspec": {
   "display_name": "Python 3 (ipykernel)",
   "language": "python",
   "name": "python3"
  },
  "language_info": {
   "codemirror_mode": {
    "name": "ipython",
    "version": 3
   },
   "file_extension": ".py",
   "mimetype": "text/x-python",
   "name": "python",
   "nbconvert_exporter": "python",
   "pygments_lexer": "ipython3",
   "version": "3.10.0"
  }
 },
 "nbformat": 4,
 "nbformat_minor": 5
}
